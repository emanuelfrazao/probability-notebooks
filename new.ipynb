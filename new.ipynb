{
 "cells": [
  {
   "cell_type": "markdown",
   "metadata": {},
   "source": [
    "# Activity 1 - core probability concepts"
   ]
  },
  {
   "cell_type": "markdown",
   "metadata": {},
   "source": [
    "**GOALS [NOTION]**:\n",
    "* familiarity with core probabilities' lingo\n",
    "  * mathematical notation\n",
    "  * events and probability distributions\n",
    "  * sum rule (_a.k.a._ union of events)\n",
    "  * conditional probability\n",
    "  * product rule (_a.k.a_ chain rule)\n",
    "  * independency\n",
    "* random variables [r.v.]\n",
    "  * probability mass function\n",
    "  * cumulative distribution function\n",
    "  * expected value and variance\n",
    "  * discrete vs continuous r.v.'s\n",
    "  * joint probability\n",
    "  * marginal probability"
   ]
  },
  {
   "cell_type": "markdown",
   "metadata": {},
   "source": [
    "## 1.1 there is reason behind!"
   ]
  },
  {
   "cell_type": "markdown",
   "metadata": {},
   "source": [
    "Probability theory arises as the _optimal_ way to measure plausibility quantitatively. There - we said it.\n",
    "\n",
    "When we talk about the probability of an event, there's always a set of assumptions that go with it - and speaking of probabilities wouldn't ever make sense otherwise.\n",
    "\n",
    "So let's consider the setting for this (sub-)activity, and the assumptions that are implicit on it - making it _explicit enough_:\n",
    "* you have a deck of cards standing on top of a table;\n",
    "* the deck is clearly wasted, and it is the first time you take a look at it;\n",
    "* you know - or some friend just told you - that the deck is full: it has the 52 cards;\n",
    "* you cannot resist but to peak on the first one."
   ]
  },
  {
   "cell_type": "markdown",
   "metadata": {},
   "source": [
    "Now:\n",
    "1. What probability _are you willing_ to attribute for picking the ace of spaces? (the implicit _pretension_ here is that _you_ are willing to be _rational_ and have no reason to believe one card is _more likely_ to show up than any other!)\n",
    "2. Let's hold on to that pretension; say $A$ represents the event that you pick an ace - any ace - what's $P(A)$?\n",
    "3. Say $B$ represents the event that you pick a spades card - any spade... - what's $P(B)$?\n",
    "4. What's the probability that you either get an ace or a space? - or, _in other words_, what's $P(A\\cup B)$?\n",
    "5. Write down the sum rule's equation for the events $A$ and $B$, and use it to arrive at the same result.\n",
    "6. Now say your friend peaked at the card and didn't show it to you; instead, she told you it is indeed a spades card (our suspicion was right all along!) - what's the probability that it is a number card?\n",
    "7. Say $N$ represents the event that you pick a number card (and that neither figures nor aces are considered numbers) - how would you represent the _expression_ implicit on the last question with some beautiful probability lingo/jargon/symbols/...hieroglyphs?\n",
    "8. If your friend had instead told you it was an even number, what would you then _assign_ for the probability of it being a spade?\n",
    "9. Is it any different than the probability of being a spade without any differentiating prior knowledge about the card?\n",
    "10. Are the two events - $E$ for drawing an even number, and $B$ for drawing a spade - independent?\n",
    "11. Write down the chain rule's equation for the events $A$ and $B$ and use it to support your answer.\n",
    "12. What's the value of $P(A|E)$?\n",
    "13. Is $A$ independent from $E$?\n",
    "14. What's the value of $P(E\\cap B|N)$?\n",
    "15. How would you make an _equivalent_ description in english for that mathematical expression?\n",
    "16. Now say you not only want to peak at the first card, but at the first two; say also that $N_1$ and $N_2$ represent the events that the first and second cards are numbers, respectively. What's $P(N_1, N_2)$?\n",
    "17. Following the same \"subscripting nomenclature\" (- let's call it that), what's $P(E_2)$ - the probability of finding an even number card on the second draw?\n",
    "18. What's $P(E_2,N_1)$? - is it the same as $P(N_1, E_2)$? - what about $P(N_2, E_1)$? (- try first to _interpret_ what that statement means in english)\n",
    "19. What's $P(N_1|E_2)$? - fun (use the rules - it's sometimes better than thinking-itself! - cof... cof!)\n",
    "20. Tricky question alert: why is it fun? - is it the question; is it the result? - compare it with $P(N_2|E_1)$."
   ]
  },
  {
   "cell_type": "markdown",
   "metadata": {},
   "source": [
    "## 1.2 there might be a simulation!"
   ]
  },
  {
   "cell_type": "markdown",
   "metadata": {},
   "source": [
    "Let's now consider an event of a more numerical nature - on the land of random variables (henceforth _r.v._).\n",
    "\n",
    "Say you have a 6-face dice:\n",
    "* it seems very well balanced - perfectly and symmetrically polished (over all of its _main_ axes);\n",
    "* (surprisingly enough -) you are concerned with the number of dots on the face that ends up upwards (you could instead be concerned with the amount of times it would hit the floor!);\n",
    "* with enough patience, you can throw it any amount of times you wish, and register the result."
   ]
  },
  {
   "cell_type": "markdown",
   "metadata": {},
   "source": [
    "Since _we_ don't actually have a dice, or at least nowhere to throw it together, let's simulate this one with `python`'s `random` module."
   ]
  },
  {
   "cell_type": "markdown",
   "metadata": {},
   "source": [
    "1. Just for (re)starts: what probability would you attribute to each outcome of the dice (- each face landing upwards)?\n",
    "2. Say $X$ is the r.v. associated with the number of dots on the face of the dice landing upwards, what's its sample space?\n",
    "3. What's the probability mass function of $X$?\n",
    "4. What's $P(X>4)$?\n",
    "5. What's the cumulative distribution function of $X$?\n",
    "6. What's $P(X>4|X \\text{ is prime})$? (- say your same friend has thrown it; didn't show you yet again; and tells you it's a prime)\n",
    "7. Say you are to make multiple throws, and $X_1$ represents the outcome of the first one, $X_2$ the outcome of the second, and so on, and so on. Do you have _reason_ to _believe_ $X_1$ is independent of $X_2$?\n",
    "8. What would then be $P(X_2 = 3|X_1 = 3)$?\n",
    "9. What about $P(X_2 = 3, X_1 = 3)$?\n",
    "10. Do you have reason to believe that they - $X_1$ and $X_2$ (or, for that matter, $X_3$ and $X_i$) - are _identically distributed_?\n",
    "11. Say you answered always on the affirmative (- welcome friend!) - use `python` to simulate multiple throws of our dice: make a function that, given a number of throws `n`, returns random sequence of outcomes of the `n` throws - or, _in other words_, the observed values of $(X_1, ..., X_n)$, _a.k.a_ the sample $(x_1, ..., x_n)$. Then, check it works.\n",
    "12. Use that function to plot the absolute frequencies of each outcome on sequences of 10, 100, and 1000 throws (that's 3 plots).\n",
    "13. Describe (in english) what you observe on the plots as `n` gets bigger.\n",
    "14. Does it match what you expected it to be? (- the sweet yes or no)\n",
    "15. What's the expected value for the distribution associated with $X$, $\\mathbb{E}[X]$?\n",
    "16. What's its variance, $\\mathbb{V}[X]$? - you may always use `python` as a calculator!\n",
    "17. Compare the answers of the last 2 questions with the _sample average_ and _sample variance_ (respectively) of some simulated 100 throws."
   ]
  },
  {
   "cell_type": "markdown",
   "metadata": {},
   "source": [
    "## 1.3 or a continuous one!"
   ]
  },
  {
   "cell_type": "markdown",
   "metadata": {},
   "source": [
    "Now, let's consider an event of a more continuous (and still - numerical) nature - the land of continuous r.v.'s.\n",
    "\n",
    "Consider a casual setting for a dystopic (yet rational!) dream: \n",
    "* there is only one way to travel from Lisbon to Porto: it is a bus that passes once a day;\n",
    "* the bus is known to departure from Lisbon at any given instant of the day - no one knows in advance;\n",
    "* there is no evidence that favours a specific time-period for departure - it's _uniformly random_.\n",
    "\n",
    "For ease of computation, say we represent the time of the day that the bus departures with a r.v. $X$ with sample space $[0, 1[$."
   ]
  },
  {
   "cell_type": "markdown",
   "metadata": {},
   "source": [
    "1. What's the probability that the bus departs after noon? - or, _in our words_, what's $P(X>0.5)$?\n",
    "2. What's the probability that the bus departs _exactly_ at 12h00, 0 seconds, 0 nanoseconds (- and 0-on until the very ultimate atomic unit of time!, whatever _that_ may be)? - or, to be more succinct, what's $P(X=0.5)$?\n",
    "3. What's the relation between $P(X>0.5)$ and $P(X\\geq 0.5)$? - _i.e._, are they the same? - if not, which is higher?\n",
    "4. What's the probability that the bus departs between 8h00 and 18h00?\n",
    "5. What about $P(\\frac{1}{3} < X < \\frac{3}{4} | X > \\frac{1}{2})$? - use both the intuition on the interpreation of the mathematical expression, and the product rule, to arrive at the (same!) result.\n",
    "6. What are the expected value and variance of $X$?\n",
    "7. Use `python`'s `random` to simulate a sequence of actual departures of the bus on a given year (with 365 days, say).\n",
    "8. Make a histogram of the sample results with 24 bins.\n",
    "9.  How do you interpret the visualization? - is the (descriptive) statistics represented according to your expectations?\n",
    "10. Now assume that you knew for a fact (you are dreaming - and with all your certainties!) that you would fall asleep - somewhen on the trip - with 80% probability if the bus departed between 00h00 and 6h00, and with 30% probability otherwise; say $S$ represents whether you do fall asleep or not (1 if so, 0 otherwise); we could write this whole statement as $P(S=1| X < \\frac{1}{4}) = 0.8$, and $P(S=1|X\\geq \\frac{1}{4}) = 0.3$. What's the probability that you fall asleep, $P(S=1)$ (if you would sit on the station waiting for the bus to depart)? \n",
    "11. What's the probability that you do not fall asleep, if the bus would depart before 8h00 (and again, you're sure to catch it)?"
   ]
  },
  {
   "cell_type": "markdown",
   "metadata": {},
   "source": [
    "# Activity 2 - prevailing distributions"
   ]
  },
  {
   "cell_type": "markdown",
   "metadata": {},
   "source": [
    "**GOALS [NOTION]**:\n",
    "* for each distribution,\n",
    "  * get acquainted with its typical use-cases\n",
    "  * know the parameters of each distribution (their sufficient statistics)\n",
    "  * how to make use of it to model events and r.v.\n",
    "* use `python`'s `scipy.stats` module to work with the distributions\n",
    "* identify which distribution to use to model a specific event"
   ]
  },
  {
   "cell_type": "markdown",
   "metadata": {},
   "source": [
    "Uff... so, no matter whether you managed to do all of the previous exercises (already) - we now go to the zoo:\n",
    "the zoo of probability distributions - the famous ones, the classics, the special types,\n",
    "the ones people recognize, talk about, and use for the most variate purposes: more concretely, for modelling real world phenomena.\n",
    "\n"
   ]
  },
  {
   "cell_type": "markdown",
   "metadata": {},
   "source": [
    "We'll explore specific use-cases of some of the most famous distributions (not necessarily the most prevalent!),\n",
    "and it is important that you understand each one's typical use-case for modelling."
   ]
  },
  {
   "cell_type": "markdown",
   "metadata": {},
   "source": [
    "1. What's the name of the type of distribution that we used on the previous activity for the dice and the bus?"
   ]
  },
  {
   "cell_type": "markdown",
   "metadata": {},
   "source": [
    "## 2.1 bernoulli - the success!"
   ]
  },
  {
   "cell_type": "markdown",
   "metadata": {},
   "source": [
    "The classic bernoulli use-case is an event that can only have two outcomes,\n",
    "one is then considered a success, the other one a failure (with hashtag no judgments).\n",
    "\n",
    "Consider an imagined traffic light in front of your imagined door-step:\n",
    "* you know it always spends 10 seconds on green light and 15 on the red one - with no other colors;\n",
    "* you _know_ that because you're obsessed with it and have measured it twenty thousand times - and now have no reason to _believe_ otherwise, despite past skepticism;\n",
    "* say you walk out of your house and rush to the traffic light to observe its color at the first instant you see it."
   ]
  },
  {
   "cell_type": "markdown",
   "metadata": {},
   "source": [
    "1. What's the probability that you will see a red light?\n",
    "2. Say we want to model this event with a Bernoulli r.v., $X$, with the success representing seeing the green light and the failure the red one - thus writing $X\\sim \\text{binomial}(p)$. What's then the value of $p$?\n",
    "3. Is the expected value of $X$ a possible outcome of the r.v.?\n",
    "4. "
   ]
  },
  {
   "cell_type": "markdown",
   "metadata": {},
   "source": [
    "## 2.2 binomial - the many successes!"
   ]
  },
  {
   "cell_type": "markdown",
   "metadata": {},
   "source": [
    "* introduce quantiles"
   ]
  },
  {
   "cell_type": "markdown",
   "metadata": {},
   "source": [
    "## 2.3 geometric - at last, a success..."
   ]
  },
  {
   "cell_type": "markdown",
   "metadata": {},
   "source": [
    "## 2.4 poisson - counting on a given time"
   ]
  },
  {
   "cell_type": "code",
   "execution_count": null,
   "metadata": {},
   "outputs": [],
   "source": [
    "https://towardsdatascience.com/poisson-distribution-intuition-and-derivation-1059aeab90d"
   ]
  },
  {
   "cell_type": "markdown",
   "metadata": {},
   "source": [
    "## 2.5 exponential - waiting for a given time"
   ]
  },
  {
   "cell_type": "code",
   "execution_count": null,
   "metadata": {},
   "outputs": [],
   "source": [
    "https://towardsdatascience.com/what-is-exponential-distribution-7bdd08590e2a"
   ]
  },
  {
   "cell_type": "markdown",
   "metadata": {},
   "source": [
    "## 2.6 normal - the very special one"
   ]
  },
  {
   "cell_type": "markdown",
   "metadata": {},
   "source": [
    "## 2.7 all-in-one"
   ]
  },
  {
   "cell_type": "markdown",
   "metadata": {},
   "source": [
    "Let's mix things up a little. Make sure to use `scipy.stats` profusely, and take note on which distributions are appropriate for each question."
   ]
  },
  {
   "cell_type": "markdown",
   "metadata": {},
   "source": [
    "Consider your future-self with even more `python` skills on your hands:\n",
    "* your future-self grabbed the data on all of your (then) past emails, both the ones flagged spam and the ones not;\n",
    "* yours truly realized that 15% of the emails you will have received were flagged (by your _provider_) as spam - either fairly or not (!);\n",
    "* to then realize that the average number of emails you'll have received per hour was 4.2;\n",
    "* and that the average number of characters on the title was 19.4, with a standard deviation of 3.5."
   ]
  },
  {
   "cell_type": "markdown",
   "metadata": {},
   "source": [
    "Your future-self is then very interested on a couple of questions concerning the future's furure:\n",
    "1. What would you say is the probability that the next email is [flagged as] spam?\n",
    "2. With what you know so far, is it _reasonable to assume_ that, for the next emails, one being spam or not is independent of what the others are? Argue it out.\n",
    "3. Say you assume so, and consider the next 20 emails. What is the probability that none of them is spam?\n",
    "4. What's the probability that at most 3 of them are spam? - which probability distribution would you use to help answering that question? \n",
    "5. Say $X$ represents the number of spam emails that you get out of the 20. Write down its expression and parameters' values.\n",
    "6. What's the probability that you'll get between 2 and 5 spam emails?\n",
    "7. What's the most probable number of spam emails to get?\n",
    "8. What's the _expected number_ of them? (allowing for a small abuse of language for basically asking what's $\\mathbb{E}[X]$) - is it a number of emails that you can actually get - _i.e._, a _natural number_?\n",
    "9.  Let's now forget about this' considering only 20. What's the probability that the first spam email to get is after 5 non-spam ones?\n",
    "10. What's the most probable number of non-spam emails to get until you get the first spam one?\n",
    "11. Considering your future-self's initial findings, what's probability would you attribute for, on the next week, getting 20 emails? - which probability distribution would you use to help answering that question? - do you need to make any further assumptions in order to use it?\n",
    "12. What's the probability that you get less than 2 spam emails on the next day?\n",
    "13. What's the probability that, on the next 3 days, you get more than 10 spam emails?\n",
    "14. What's the probability of going a whole day without emails?\n",
    "15. What's the probability of going more than 3 days without spam emails?\n",
    "16. What's the probability that you wait less than an hour for a non-spam email?\n",
    "17. Now say we are concerned with how long a title may be.\n",
    "18. ...\n",
    "\n"
   ]
  },
  {
   "cell_type": "markdown",
   "metadata": {},
   "source": [
    "# Activity 3 - the central (limit) theorem"
   ]
  },
  {
   "cell_type": "code",
   "execution_count": null,
   "metadata": {},
   "outputs": [],
   "source": [
    "simulate some emails on whether they are spam or not - and get the average - see where it leads"
   ]
  },
  {
   "cell_type": "markdown",
   "metadata": {},
   "source": [
    "# Activity 4 - testing hypothesis"
   ]
  },
  {
   "cell_type": "code",
   "execution_count": null,
   "metadata": {},
   "outputs": [],
   "source": [
    "have some past data generated - test whether spam emails have longer titles"
   ]
  },
  {
   "cell_type": "markdown",
   "metadata": {},
   "source": [
    "# Activity 5 - A/B testing"
   ]
  },
  {
   "cell_type": "code",
   "execution_count": null,
   "metadata": {},
   "outputs": [],
   "source": [
    "say you are a marketing company making publicity emails - \n",
    "trying to test how to better fool the email provider into thinking your publicity is not spam"
   ]
  }
 ],
 "metadata": {
  "kernelspec": {
   "display_name": "Python 3.9.13 ('prob')",
   "language": "python",
   "name": "python3"
  },
  "language_info": {
   "codemirror_mode": {
    "name": "ipython",
    "version": 3
   },
   "file_extension": ".py",
   "mimetype": "text/x-python",
   "name": "python",
   "nbconvert_exporter": "python",
   "pygments_lexer": "ipython3",
   "version": "3.9.13"
  },
  "orig_nbformat": 4,
  "vscode": {
   "interpreter": {
    "hash": "fd7c8b5c12addaac454772d8ab31f5d12c5bca5c2a036749d73c662502817ed9"
   }
  }
 },
 "nbformat": 4,
 "nbformat_minor": 2
}
