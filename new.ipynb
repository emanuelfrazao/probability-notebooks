{
 "cells": [
  {
   "cell_type": "markdown",
   "metadata": {},
   "source": [
    "# Activity 1 - core probability concepts"
   ]
  },
  {
   "cell_type": "markdown",
   "metadata": {},
   "source": [
    "**GOALS [NOTION]**:\n",
    "* core probabilities' lingo\n",
    "  * events and probability distributions\n",
    "  * sum rule (_a.k.a._ union of events)\n",
    "  * conditional probability\n",
    "  * product rule (_a.k.a_ chain rule)\n",
    "  * independency\n",
    "  * joint probability\n",
    "  * marginal probability\n",
    "* random variables [r.v.]\n",
    "  * expected value and variance\n",
    "  * discrete vs continuous r.v.'s"
   ]
  },
  {
   "cell_type": "markdown",
   "metadata": {},
   "source": [
    "## 1.1 there is reason behind!"
   ]
  },
  {
   "cell_type": "markdown",
   "metadata": {},
   "source": [
    "Probability theory arises as the _optimal_ way to measure plausibility quantitatively. There - we said it.\n",
    "\n",
    "When we talk about the probability of an event, there's always a set of assumptions that go with it - and speaking of probabilities wouldn't ever make sense otherwise.\n",
    "\n",
    "So let's consider the setting for this (sub-)activity, and the assumptions that are implicit on it - making it spicy:\n",
    "* you have a deck of cards standing on top of a table;\n",
    "* the deck is clearly wasted, and it is the first time you take a look at it;\n",
    "* you know - or some friend just told you - that the deck is full: it has 52 cards;\n",
    "* you cannot resist but to peak on the first one."
   ]
  },
  {
   "cell_type": "markdown",
   "metadata": {},
   "source": [
    "Now:\n",
    "1. What probability _are you willing_ to attribute for picking the ace of spaces? (the implicit _pretension_ here is that _you_ are willing to be _rational_ and have no reason to believe one card is _more likely_ to show up than any other!)\n",
    "2. Say $A$ represents the event that you pick an ace - any ace - what's $P(A)$?\n",
    "3. Say $B$ represents the event that you pick a spades card - any spade... - what's $P(B)$?\n",
    "4. What's the probability that you either get an ace or a space? - or, _in other words_, what's $P(A\\cup B)$?\n",
    "5. Use the sum rule to arrive at the same result.\n",
    "6. Now say your friend peaked at the card and didn't show it to you; instead, she told you it is indeed a spades card (our suspicion was right all along!) - what's the probability that it is a number card?\n",
    "7. Say $N$ represents the event that you pick a number card - how would you represent the _expression_ implicit on the last question with some beautiful probability lingo/jargon/symbols/...hieroglyphs?\n",
    "8. If your friend had instead told you it was an even number, what would you then _assign_ for the probability of it being a space?\n",
    "9. Is it any different than the probability of being a space, hadn't you known that?\n",
    "10. Then, are the two events - $E$ for drawing an even number, and $B$ for drawing a spade - independent?\n",
    "11. Use the product rule (_a.k.a_ the chain rule) to support your answer.\n",
    "12. What's $P(A|E)$?\n",
    "13. Is $A$ independent from $E$?\n",
    "14. What's $P(E\\cap B|N)$?\n",
    "15. Now say you not only want to peak at the first card, but at the first two; say also that $N_1$ and $N_2$ represent the events that the first and second cards are numbers, respectively. What's $P(N_1, N_2)$?\n",
    "16. Following the same \"subscripting logic\" (let's call it that), what's $P(E_2)$?\n",
    "17. What's $P(E_2,N_1)$?\n",
    "18. What's $P(N_1|E_2)$? - fun (use the rules - always better than thinking! - cof... cof!)\n",
    "19. Tricky question alert: why is it fun? - is it the question, or is it the result? - compare it with $P(N_2|E_1)$"
   ]
  },
  {
   "cell_type": "markdown",
   "metadata": {},
   "source": [
    "## 1.2 there might be a simulation!"
   ]
  },
  {
   "cell_type": "markdown",
   "metadata": {},
   "source": [
    "Let's now consider an event of a more numerical nature. \n",
    "\n",
    "Say you have a 6-face dice:\n",
    "* it seems very well balanced - perfectly and symmetrically polished;\n",
    "* surprisingly enough, you are concerned with the number of dots on the face that ends up upwards;\n",
    "* with enough patience, you can throw it any amount of times you wish, and register the result."
   ]
  },
  {
   "cell_type": "markdown",
   "metadata": {},
   "source": [
    "Since _we_ don't actually have a dice, or at least nowhere to throw it together, let's simulate one with our `python`'s `random` module"
   ]
  },
  {
   "cell_type": "markdown",
   "metadata": {},
   "source": [
    "1. Just for (re)starts: what probability would you attribute to each outcome of the dice?\n",
    "2. Say $X$ is the random variable (henceforth r.v.) associated with the outcome of the dice, what's its sample space?\n",
    "3. What's the probability mass function of $X$?\n",
    "4. What's the cumulative distribution of $X$?\n",
    "5. Say $X_1$ represents the outcome of the first throw, $X_2$ the outcome of the second one, and so on and so on. Do you have _reason_ to _believe_ $X_1$ is independent of $X_2$?\n",
    "6. Do you have reason to believe that they - $X_1$ and $X_2$ (or for that matter, $X_3$ and $X_i$) - are _identically distributed_?\n",
    "7. So say you answered always on the affirmative (- welcome friend!) - use `python` to simulate multiple throws of the dice: make a function that, given a number of throws `n`, returns random sequence of outcomes of `n` throws.\n",
    "8. "
   ]
  },
  {
   "cell_type": "code",
   "execution_count": 2,
   "metadata": {},
   "outputs": [],
   "source": [
    "import random as rd"
   ]
  },
  {
   "cell_type": "code",
   "execution_count": 24,
   "metadata": {},
   "outputs": [
    {
     "data": {
      "text/plain": [
       "3"
      ]
     },
     "execution_count": 24,
     "metadata": {},
     "output_type": "execute_result"
    }
   ],
   "source": [
    "rd.randint(1,6)"
   ]
  }
 ],
 "metadata": {
  "kernelspec": {
   "display_name": "Python 3.9.13 ('prob')",
   "language": "python",
   "name": "python3"
  },
  "language_info": {
   "codemirror_mode": {
    "name": "ipython",
    "version": 3
   },
   "file_extension": ".py",
   "mimetype": "text/x-python",
   "name": "python",
   "nbconvert_exporter": "python",
   "pygments_lexer": "ipython3",
   "version": "3.9.13"
  },
  "orig_nbformat": 4,
  "vscode": {
   "interpreter": {
    "hash": "fd7c8b5c12addaac454772d8ab31f5d12c5bca5c2a036749d73c662502817ed9"
   }
  }
 },
 "nbformat": 4,
 "nbformat_minor": 2
}
