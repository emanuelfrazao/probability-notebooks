{
 "cells": [
  {
   "cell_type": "markdown",
   "metadata": {},
   "source": [
    "# 1. basic concepts\n"
   ]
  },
  {
   "cell_type": "markdown",
   "metadata": {},
   "source": [
    "In this activity we are going to explore:\n",
    "* **Events** and _discrete_ **random variables** [r.v.]\n",
    "* **Probability distributions** associated with r.v.\n",
    "* **Conditional probability distribution** between r.v.\n",
    "* **Independence** between r.v.\n",
    "* **Joint probability distribution**\n",
    "* **Expected value**\n",
    "* **Variance**"
   ]
  },
  {
   "cell_type": "markdown",
   "metadata": {},
   "source": [
    "## 1.1 events and r.v."
   ]
  },
  {
   "cell_type": "markdown",
   "metadata": {},
   "source": [
    "Consider the event of **throwing of a 6-face dice**; either with a single throw, or a sequence of throws.\n",
    "\n",
    "Considering this event, there are some terms that are important to differentiate, and we'll stress them here so that we are all on the same page!\n",
    "\n",
    "1. the ***event*** of throwing the dice;\n",
    "1. the **set of outcomes of the event** that are relevant to us: which face ends up on the dice (we could be considering other outcomes! - say, in the case of a physical dice, how many times it hit the table);\n",
    "1. the ***random variable*** associated with the set of outcomes - call it $X$ -: representing the number on the face that ends up on a throw;\n",
    "1. the ***sample space***: the possible values of the $X$;"
   ]
  },
  {
   "cell_type": "markdown",
   "metadata": {},
   "source": [
    "Now:"
   ]
  },
  {
   "cell_type": "markdown",
   "metadata": {},
   "source": [
    "* what is the sample space of this random variable?"
   ]
  },
  {
   "cell_type": "markdown",
   "metadata": {},
   "source": []
  },
  {
   "cell_type": "markdown",
   "metadata": {},
   "source": [
    "## 1.2 probability distribution"
   ]
  },
  {
   "cell_type": "markdown",
   "metadata": {},
   "source": [
    "### 1.2.1 theoretical considerations"
   ]
  },
  {
   "cell_type": "markdown",
   "metadata": {},
   "source": [
    "Consider the same event of the dice throw.\n",
    "* what is the probability distribution of the r.v., considering that we have no evidence to favor the occurrence of any outcome?"
   ]
  },
  {
   "cell_type": "markdown",
   "metadata": {},
   "source": []
  },
  {
   "cell_type": "markdown",
   "metadata": {},
   "source": [
    "Since we do not have a table to play on (!), let's now simulate our dice."
   ]
  },
  {
   "cell_type": "markdown",
   "metadata": {},
   "source": [
    "### 1.2.1 simlation fun"
   ]
  },
  {
   "cell_type": "markdown",
   "metadata": {},
   "source": [
    "* use the `numpy.random` module to generate a single throw of a dice: to have a natural number between 1 and 6 with equal probability"
   ]
  },
  {
   "cell_type": "code",
   "execution_count": null,
   "metadata": {},
   "outputs": [],
   "source": []
  },
  {
   "cell_type": "markdown",
   "metadata": {},
   "source": [
    "* could you tell the probabilities of each outcome by looking at single outcome?"
   ]
  },
  {
   "cell_type": "markdown",
   "metadata": {},
   "source": []
  },
  {
   "cell_type": "markdown",
   "metadata": {},
   "source": [
    "Let's go deeper!"
   ]
  },
  {
   "cell_type": "markdown",
   "metadata": {},
   "source": [
    "* create a function that, given a number of throws `n`, returns a sequence with the outcomes of `n` throws of the dice"
   ]
  },
  {
   "cell_type": "code",
   "execution_count": null,
   "metadata": {},
   "outputs": [],
   "source": []
  },
  {
   "cell_type": "markdown",
   "metadata": {},
   "source": [
    "* now, use that function to make count plots on the frequency of each outcome for 10, 100, and 1000 throws - _iot_ visualize the frequency of each outcome"
   ]
  },
  {
   "cell_type": "code",
   "execution_count": 8,
   "metadata": {},
   "outputs": [],
   "source": []
  },
  {
   "cell_type": "markdown",
   "metadata": {},
   "source": [
    "* what do you observe as the number of throws gets higher? - can we now _observe_ the probabilities of each outcome?"
   ]
  },
  {
   "cell_type": "markdown",
   "metadata": {},
   "source": []
  },
  {
   "cell_type": "markdown",
   "metadata": {},
   "source": [
    "## 1.3 conditional probability"
   ]
  },
  {
   "cell_type": "markdown",
   "metadata": {},
   "source": [
    "* what's the (theoretical) probability that a throw's outcome _was_ an odd number, _knowing that it was_ a prime? "
   ]
  },
  {
   "cell_type": "markdown",
   "metadata": {},
   "source": []
  },
  {
   "cell_type": "markdown",
   "metadata": {},
   "source": [
    "TODO"
   ]
  },
  {
   "cell_type": "markdown",
   "metadata": {},
   "source": [
    "## 1.4 independence"
   ]
  },
  {
   "cell_type": "code",
   "execution_count": null,
   "metadata": {},
   "outputs": [],
   "source": []
  },
  {
   "cell_type": "markdown",
   "metadata": {},
   "source": [
    "## 1.5 joint and marginal probability"
   ]
  },
  {
   "cell_type": "markdown",
   "metadata": {},
   "source": [
    "### 1.5.1 theoretical fun"
   ]
  },
  {
   "cell_type": "markdown",
   "metadata": {},
   "source": [
    "Let's change things a bit: consider we now have 2 dice - one blue, one red - also, very perfect.\n",
    "\n",
    "Call $X$ the r.v. associated with the outcome of the blue dice, and $Y$ the one associated with the red dice."
   ]
  },
  {
   "cell_type": "markdown",
   "metadata": {},
   "source": [
    "* how many outcomes are possible for a throw of the two dice?\n",
    "* (or, in other words, how many elements are in the sample space of the _joint_ r.v.?)"
   ]
  },
  {
   "cell_type": "markdown",
   "metadata": {},
   "source": []
  },
  {
   "cell_type": "markdown",
   "metadata": {},
   "source": [
    "* on a single throw (of the 2 dice), what's the probability that both dices end up with 3?\n",
    "* (or, in _other words_, what's $P(X=3, Y=3)$?)"
   ]
  },
  {
   "cell_type": "markdown",
   "metadata": {},
   "source": []
  },
  {
   "cell_type": "markdown",
   "metadata": {},
   "source": [
    "Consider a new random variable $Z$ that represents the sum of the outcome of both dice (i.e., $Z=X+Y$)."
   ]
  },
  {
   "cell_type": "markdown",
   "metadata": {},
   "source": [
    "* what's the sample space of $Z$?"
   ]
  },
  {
   "cell_type": "markdown",
   "metadata": {},
   "source": []
  },
  {
   "cell_type": "markdown",
   "metadata": {},
   "source": [
    "* what's the probability that both dice ended up with 3, knowing that their sum was 6?\n",
    "* in _other words_, what's $P(X=3,Y=3|Z=6)$?"
   ]
  },
  {
   "cell_type": "code",
   "execution_count": null,
   "metadata": {},
   "outputs": [],
   "source": []
  },
  {
   "cell_type": "markdown",
   "metadata": {},
   "source": [
    "### 1.5.2 simulation work"
   ]
  },
  {
   "cell_type": "markdown",
   "metadata": {},
   "source": [
    "\n",
    "Getting back to our simulation efforts."
   ]
  },
  {
   "cell_type": "markdown",
   "metadata": {},
   "source": [
    "* make a function `throw_sum` that simulates the throwing of the 2 dices - outputting their sum!"
   ]
  },
  {
   "cell_type": "code",
   "execution_count": null,
   "metadata": {},
   "outputs": [],
   "source": []
  },
  {
   "cell_type": "markdown",
   "metadata": {},
   "source": [
    "* make a function `throw_sum_multiple_times` that simulates `n` throws of the 2 dices - outputting a sequence of results of their sum on each throw"
   ]
  },
  {
   "cell_type": "code",
   "execution_count": null,
   "metadata": {},
   "outputs": [],
   "source": []
  },
  {
   "cell_type": "markdown",
   "metadata": {},
   "source": [
    "* make **count plots** of the outcomes for 10, 100, and 1000 throws - to visualize the frequency of each outcome"
   ]
  },
  {
   "cell_type": "code",
   "execution_count": null,
   "metadata": {},
   "outputs": [],
   "source": []
  },
  {
   "cell_type": "markdown",
   "metadata": {},
   "source": [
    "## 1.6 expected value"
   ]
  },
  {
   "cell_type": "markdown",
   "metadata": {},
   "source": [
    "* what's the expected value for $X$ and $Z$? "
   ]
  },
  {
   "cell_type": "code",
   "execution_count": null,
   "metadata": {},
   "outputs": [],
   "source": []
  },
  {
   "cell_type": "markdown",
   "metadata": {},
   "source": [
    "* compare those value with the _sample average_ of the outcomes of 1000 throws of both variables"
   ]
  },
  {
   "cell_type": "code",
   "execution_count": null,
   "metadata": {},
   "outputs": [],
   "source": []
  },
  {
   "cell_type": "markdown",
   "metadata": {},
   "source": [
    "## 1.7 variance"
   ]
  },
  {
   "cell_type": "markdown",
   "metadata": {},
   "source": [
    "* what's the variance for $X$ and $Z$? "
   ]
  },
  {
   "cell_type": "code",
   "execution_count": null,
   "metadata": {},
   "outputs": [],
   "source": []
  },
  {
   "cell_type": "markdown",
   "metadata": {},
   "source": [
    "* compare those value with the _sample variance_ of the outcomes of 1000 throws of both variables"
   ]
  },
  {
   "cell_type": "code",
   "execution_count": null,
   "metadata": {},
   "outputs": [],
   "source": []
  },
  {
   "cell_type": "markdown",
   "metadata": {},
   "source": [
    "## 1.8 continuous random variables"
   ]
  },
  {
   "cell_type": "markdown",
   "metadata": {},
   "source": [
    "The random variable associated with the outcome of the dice is what's called a _discrete random variable_ - in one of those rare occasions that mathematics finds a telling name."
   ]
  },
  {
   "cell_type": "markdown",
   "metadata": {},
   "source": [
    "We are now going to consider another _type_ of r.v., a _continuous_ one.\n",
    "\n",
    "So, consider a dystopic dream: there is only one way to travel from Lisbon to Porto: a bus that passes once a day, which may arrive at the departure site at any instant of the day. Furthermore, there is no evidence to favour a specific time-period - it's _uniformly random_.\n",
    "\n",
    "Now, let's consider a r.v. $X$ that represents the day's fraction at which the bus departs: its sample space is $[0, 1[$."
   ]
  },
  {
   "cell_type": "markdown",
   "metadata": {},
   "source": [
    "* what is the expected value and variance of $X$?"
   ]
  },
  {
   "cell_type": "markdown",
   "metadata": {},
   "source": []
  },
  {
   "cell_type": "markdown",
   "metadata": {},
   "source": [
    "* use `numpy.random` again to simulate the outcomes of 365 days of departures"
   ]
  },
  {
   "cell_type": "code",
   "execution_count": null,
   "metadata": {},
   "outputs": [],
   "source": []
  },
  {
   "cell_type": "markdown",
   "metadata": {},
   "source": [
    "* make a histogram with 12 bins (say, for the months!) of the simulated outcomes"
   ]
  },
  {
   "cell_type": "code",
   "execution_count": null,
   "metadata": {},
   "outputs": [],
   "source": []
  },
  {
   "cell_type": "markdown",
   "metadata": {},
   "source": [
    "# 2. Pervasive distributions"
   ]
  },
  {
   "cell_type": "markdown",
   "metadata": {},
   "source": [
    "We've now seen some r.v. and their probability distributions - but we haven't given them any _special names_.\n",
    "\n",
    "Turns out there are some special distributions - special because they _pop-up_ multiple times when we model world phenomena - and some, even, _very_ special."
   ]
  },
  {
   "cell_type": "markdown",
   "metadata": {},
   "source": [
    "There are many such distributions, and we are going to look at some of them - namely:\n",
    "1. **Bernoulli**\n",
    "1. **Binomial**\n",
    "1. **Geometric**\n",
    "1. **Poisson**\n",
    "1. **Exponential**\n",
    "1. **Normal** (a.k.a. Gaussian)"
   ]
  },
  {
   "cell_type": "markdown",
   "metadata": {},
   "source": [
    "For each distribution, it is important that you know what it is mainly _used for_ (i.e., what general phenomena it _models_).\n",
    "\n",
    "We are going to explore these distributions making use of `scipy.stats` package."
   ]
  },
  {
   "cell_type": "markdown",
   "metadata": {},
   "source": [
    "## 2.1 bernoulli"
   ]
  },
  {
   "cell_type": "markdown",
   "metadata": {},
   "source": [
    "The **bernoulli** distribution is used for **modelling the outcomes of a binary r.v.** (_i.e._, one with only 2 possible outcomes, say:\n",
    "whether a person has yellow eyes or not,\n",
    "whether a mail is spam or not,\n",
    "whether a phone is smart or not,\n",
    "whether a dog is blind or not...\n",
    "you get the point).\n",
    "\n",
    "A note on convention: when using the bernoulli distribution, people usually associate one of the outcomes with *success* and the other one with *failure*."
   ]
  },
  {
   "cell_type": "markdown",
   "metadata": {},
   "source": [
    "* "
   ]
  }
 ],
 "metadata": {
  "kernelspec": {
   "display_name": "Python 3.9.13 ('prob')",
   "language": "python",
   "name": "python3"
  },
  "language_info": {
   "codemirror_mode": {
    "name": "ipython",
    "version": 3
   },
   "file_extension": ".py",
   "mimetype": "text/x-python",
   "name": "python",
   "nbconvert_exporter": "python",
   "pygments_lexer": "ipython3",
   "version": "3.9.13"
  },
  "orig_nbformat": 4,
  "vscode": {
   "interpreter": {
    "hash": "fd7c8b5c12addaac454772d8ab31f5d12c5bca5c2a036749d73c662502817ed9"
   }
  }
 },
 "nbformat": 4,
 "nbformat_minor": 2
}
